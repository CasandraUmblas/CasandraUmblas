{
 "cells": [
  {
   "cell_type": "code",
   "execution_count": 2,
   "metadata": {},
   "outputs": [
    {
     "name": "stdout",
     "output_type": "stream",
     "text": [
      "Only Claire is on the list, please add Morgan!\n"
     ]
    }
   ],
   "source": [
    "TDG_cast = [\"Shaun\", \"Lea\", \"Claire\", \"Neil\"]\n",
    "if \"Claire\" and \"Morgan\" in TDG_cast:\n",
    "    print (\"Claire and Morgan are part of the show\")\n",
    "elif \"Claire\" and \"Morgan\":\n",
    "    print (\"Only Claire is on the list, please add Morgan!\")"
   ]
  },
  {
   "cell_type": "code",
   "execution_count": 5,
   "metadata": {},
   "outputs": [
    {
     "name": "stdout",
     "output_type": "stream",
     "text": [
      "['Shaun', 'Lea', 'Claire', 'Neil', 'Morgan']\n"
     ]
    }
   ],
   "source": [
    "TDG_cast = [\"Shaun\", \"Lea\", \"Claire\", \"Neil\"]\n",
    "TDG_cast.append (\"Morgan\")\n",
    "print (TDG_cast)"
   ]
  },
  {
   "cell_type": "code",
   "execution_count": 7,
   "metadata": {},
   "outputs": [
    {
     "name": "stdout",
     "output_type": "stream",
     "text": [
      "['Shaun', 'Lea', 'Claire', 'Neil', 'Morgan', 'Dr. Glassman', 'Audrey', 'Marcus']\n"
     ]
    }
   ],
   "source": [
    "TDG_cast = [\"Shaun\", \"Lea\", \"Claire\", \"Neil\", \"Morgan\"]\n",
    "O_cast = [\"Dr. Glassman\", \"Audrey\", \"Marcus\"]\n",
    "\n",
    "TDG_cast.extend (O_cast)\n",
    "print (TDG_cast)"
   ]
  },
  {
   "cell_type": "code",
   "execution_count": 4,
   "metadata": {},
   "outputs": [
    {
     "name": "stdout",
     "output_type": "stream",
     "text": [
      "['Shaun', 'Lea', 'Claire', 'Dr. Glassman', 'Audrey', 'Marcus']\n"
     ]
    }
   ],
   "source": [
    "TDG_cast.remove (\"Neil\")\n",
    "print (TDG_cast)"
   ]
  }
 ],
 "metadata": {
  "kernelspec": {
   "display_name": "Python 3.10.8 64-bit (microsoft store)",
   "language": "python",
   "name": "python3"
  },
  "language_info": {
   "codemirror_mode": {
    "name": "ipython",
    "version": 3
   },
   "file_extension": ".py",
   "mimetype": "text/x-python",
   "name": "python",
   "nbconvert_exporter": "python",
   "pygments_lexer": "ipython3",
   "version": "3.10.8"
  },
  "orig_nbformat": 4,
  "vscode": {
   "interpreter": {
    "hash": "bbae291f5c38e5cf8a177feaeffeb13d2864453589e78ce2849eb8b60e124340"
   }
  }
 },
 "nbformat": 4,
 "nbformat_minor": 2
}
