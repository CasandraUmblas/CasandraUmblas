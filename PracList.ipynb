{
 "cells": [
  {
   "cell_type": "code",
   "execution_count": 21,
   "metadata": {},
   "outputs": [
    {
     "name": "stdout",
     "output_type": "stream",
     "text": [
      "Only Claire is part of the show\n"
     ]
    }
   ],
   "source": [
    "TDG_cast = [\"Shaun\", \"Lea\", \"Claire\", \"Neil\"]\n",
    "if \"Claire\" and \"Morgan\" in TDG_cast:\n",
    "    print (\"Claire and Morgan are part of the show\")\n",
    "elif \"Claire\" and \"Morgan\":\n",
    "    print (\"Only Claire is part of the show\")"
   ]
  },
  {
   "cell_type": "code",
   "execution_count": 22,
   "metadata": {},
   "outputs": [
    {
     "name": "stdout",
     "output_type": "stream",
     "text": [
      "['Shaun', 'Lea', 'Claire', 'Neil', 'Dr. Glassman', 'Audrey', 'Marcus']\n"
     ]
    }
   ],
   "source": [
    "TDG_cast = [\"Shaun\", \"Lea\", \"Claire\", \"Neil\"]\n",
    "O_cast = [\"Dr. Glassman\", \"Audrey\", \"Marcus\"]\n",
    "\n",
    "TDG_cast.extend (O_cast)\n",
    "print (TDG_cast)"
   ]
  },
  {
   "cell_type": "code",
   "execution_count": 23,
   "metadata": {},
   "outputs": [
    {
     "name": "stdout",
     "output_type": "stream",
     "text": [
      "['Shaun', 'Lea', 'Claire', 'Dr. Glassman', 'Audrey', 'Marcus']\n"
     ]
    }
   ],
   "source": [
    "TDG_cast.remove (\"Neil\")\n",
    "print (TDG_cast)"
   ]
  }
 ],
 "metadata": {
  "kernelspec": {
   "display_name": "Python 3.10.8 64-bit (microsoft store)",
   "language": "python",
   "name": "python3"
  },
  "language_info": {
   "codemirror_mode": {
    "name": "ipython",
    "version": 3
   },
   "file_extension": ".py",
   "mimetype": "text/x-python",
   "name": "python",
   "nbconvert_exporter": "python",
   "pygments_lexer": "ipython3",
   "version": "3.10.8"
  },
  "orig_nbformat": 4,
  "vscode": {
   "interpreter": {
    "hash": "bbae291f5c38e5cf8a177feaeffeb13d2864453589e78ce2849eb8b60e124340"
   }
  }
 },
 "nbformat": 4,
 "nbformat_minor": 2
}
