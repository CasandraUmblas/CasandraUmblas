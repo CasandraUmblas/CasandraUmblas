{
 "cells": [
  {
   "cell_type": "code",
   "execution_count": 1,
   "metadata": {},
   "outputs": [
    {
     "name": "stdout",
     "output_type": "stream",
     "text": [
      "Robert Downey Jr.\n"
     ]
    }
   ],
   "source": [
    "mc1 = {\n",
    "    \"Spider-Man :\": \"Tobey Maguire\", \n",
    "    \"age :\": 47\n",
    "    }\n",
    "mc2 = {\n",
    "    \"Iron Man :\": \"Robert Downey Jr.\",\n",
    "    \"age :\": 57\n",
    "    }\n",
    "\n",
    "print (mc2[\"Iron Man\"])"
   ]
  },
  {
   "cell_type": "code",
   "execution_count": 7,
   "metadata": {},
   "outputs": [
    {
     "name": "stdout",
     "output_type": "stream",
     "text": [
      "Spider-Man : Tobey Maguire\n",
      "age : 47\n"
     ]
    }
   ],
   "source": [
    "mc1 = {\n",
    "    \"Spider-Man :\": \"Tobey Maguire\",\n",
    "    \"age :\": 47\n",
    "    }\n",
    "mc2 = {\n",
    "    \"Iron Man\": \"Robert Downey Jr.\",\n",
    "    \"age :\": 57\n",
    "    }\n",
    "\n",
    "for key, value in mc1.items():\n",
    "    print (key, value)"
   ]
  },
  {
   "cell_type": "code",
   "execution_count": 10,
   "metadata": {},
   "outputs": [
    {
     "name": "stdout",
     "output_type": "stream",
     "text": [
      "{'Spider Man': 'Tobey Maguire', 'Iron Man': 'Robert Downey Jr.', 'Captain America ': 'Chris Evans'}\n"
     ]
    }
   ],
   "source": [
    "marvel = {\n",
    "    \"Spider Man\" : \"Tobey Maguire\",\n",
    "    \"Iron Man\": \"Robert Downey Jr.\",\n",
    "    \"Captain America\": \"Chris Evans\"\n",
    "    }\n",
    "print (marvel)"
   ]
  },
  {
   "cell_type": "code",
   "execution_count": 30,
   "metadata": {},
   "outputs": [
    {
     "name": "stdout",
     "output_type": "stream",
     "text": [
      "dict_keys(['Spider Man', 'Iron Man', 'Captain America'])\n"
     ]
    }
   ],
   "source": [
    "marvel = {\n",
    "    \"Spider Man\" : \"Tobey Maguire\",\n",
    "    \"Iron Man\": \"Robert Downey Jr.\",\n",
    "    \"Captain America\": \"Chris Evans\"\n",
    "    }\n",
    "\n",
    "c = marvel.keys()\n",
    "print (c)"
   ]
  },
  {
   "cell_type": "code",
   "execution_count": 31,
   "metadata": {},
   "outputs": [
    {
     "name": "stdout",
     "output_type": "stream",
     "text": [
      "{'Spider Man': 'Tobey Maguire', 'Iron Man': 'Robert Downey Jr.', 'Captain America': 'Chris Evans', 'Black Panther': 'Chadwick Boseman'}\n"
     ]
    }
   ],
   "source": [
    "marvel [\"Black Panther\"] = \"Chadwick Boseman\"\n",
    "print (marvel)"
   ]
  },
  {
   "cell_type": "code",
   "execution_count": 26,
   "metadata": {},
   "outputs": [
    {
     "name": "stdout",
     "output_type": "stream",
     "text": [
      "Please add Thor in the keys\n"
     ]
    }
   ],
   "source": [
    "if \"Thor\" in marvel:\n",
    "    print (\"Thor is included!\")\n",
    "else:\n",
    "    print (\"Please add Thor in the keys\")"
   ]
  },
  {
   "cell_type": "code",
   "execution_count": 32,
   "metadata": {},
   "outputs": [
    {
     "name": "stdout",
     "output_type": "stream",
     "text": [
      "{'Spider Man': 'Tobey Maguire', 'Iron Man': 'Robert Downey Jr.', 'Captain America': 'Chris Evans', 'Black Panther': 'Chadwick Boseman', 'Thor': 'Chris Hemsworth'}\n"
     ]
    }
   ],
   "source": [
    "marvel [\"Thor\"] = \"Chris Hemsworth\"\n",
    "print (marvel)"
   ]
  },
  {
   "cell_type": "code",
   "execution_count": 33,
   "metadata": {},
   "outputs": [
    {
     "name": "stdout",
     "output_type": "stream",
     "text": [
      "{'Iron Man': 'Robert Downey Jr.', 'Captain America': 'Chris Evans', 'Black Panther': 'Chadwick Boseman', 'Thor': 'Chris Hemsworth'}\n"
     ]
    }
   ],
   "source": [
    "marvel.pop (\"Spider Man\")\n",
    "print (marvel)"
   ]
  },
  {
   "cell_type": "code",
   "execution_count": 34,
   "metadata": {},
   "outputs": [
    {
     "name": "stdout",
     "output_type": "stream",
     "text": [
      "Robert Downey Jr.\n",
      "Chris Evans\n",
      "Chadwick Boseman\n",
      "Chris Hemsworth\n"
     ]
    }
   ],
   "source": [
    "for c in marvel:\n",
    "    print (marvel[c])"
   ]
  },
  {
   "cell_type": "code",
   "execution_count": 36,
   "metadata": {},
   "outputs": [
    {
     "name": "stdout",
     "output_type": "stream",
     "text": [
      "Iron Man\n",
      "Captain America\n",
      "Black Panther\n",
      "Thor\n"
     ]
    }
   ],
   "source": [
    "for c in marvel.keys():\n",
    "    print (c)"
   ]
  }
 ],
 "metadata": {
  "kernelspec": {
   "display_name": "Python 3.10.8 64-bit (microsoft store)",
   "language": "python",
   "name": "python3"
  },
  "language_info": {
   "codemirror_mode": {
    "name": "ipython",
    "version": 3
   },
   "file_extension": ".py",
   "mimetype": "text/x-python",
   "name": "python",
   "nbconvert_exporter": "python",
   "pygments_lexer": "ipython3",
   "version": "3.10.8"
  },
  "orig_nbformat": 4,
  "vscode": {
   "interpreter": {
    "hash": "bbae291f5c38e5cf8a177feaeffeb13d2864453589e78ce2849eb8b60e124340"
   }
  }
 },
 "nbformat": 4,
 "nbformat_minor": 2
}
