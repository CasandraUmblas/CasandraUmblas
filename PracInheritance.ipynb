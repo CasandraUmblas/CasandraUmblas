{
 "cells": [
  {
   "cell_type": "code",
   "execution_count": 58,
   "metadata": {},
   "outputs": [
    {
     "name": "stdout",
     "output_type": "stream",
     "text": [
      "    Student's Information\n",
      "Sr Code:  21-00506\n",
      "Name:  Umblas, Casandra H.\n",
      "Age:  19 years old\n",
      "Block:  BSIT-2102\n",
      "Year:  2nd Year\n",
      "    Student's Information\n",
      "Sr Code:  21-42011\n",
      "Name:  Rosalem, Kiara C.\n",
      "Age:  19 years old\n",
      "Block:  BSIT-2102\n",
      "Year:  2nd Year\n"
     ]
    }
   ],
   "source": [
    "class Teacher:\n",
    "    def __init__(self, name, age):\n",
    "        self.name = name\n",
    "        self.age = age\n",
    "\n",
    "    def displayIn (self):\n",
    "        print (\"Name: \", self.name)\n",
    "        print (\"Age: \", self.age, \"years old\")\n",
    "\n",
    "class Student1(Teacher):\n",
    "    def __init__(self, srCode, name, age, block, year):\n",
    "        self.srCode = srCode\n",
    "        Teacher.__init__(self, name, age)\n",
    "        self.block = block\n",
    "        self.year = year\n",
    "    \n",
    "    def displayIn (self):\n",
    "        print (\"Sr Code: \", self.srCode)\n",
    "        Teacher.displayIn (self)\n",
    "        print (\"Block: \", self.block)\n",
    "        print (\"Year: \", self.year)\n",
    "\n",
    "class Student2(Teacher):\n",
    "    def __init__(self, srCode, name, age, block, year):\n",
    "        self.srCode = srCode\n",
    "        Teacher.__init__(self, name, age)\n",
    "        self.block = block\n",
    "        self.year = year\n",
    "    \n",
    "    def displayIn (self):\n",
    "        print (\"Sr Code: \", self.srCode)\n",
    "        Teacher.displayIn (self)\n",
    "        print (\"Block: \", self.block)\n",
    "        print (\"Year: \", self.year)\n",
    "\n",
    "stud = Student1 (\"21-00506\", \"Umblas, Casandra H.\", 19, \"BSIT-2102\", \"2nd Year\")\n",
    "print (\"    Student's Information\")\n",
    "stud.displayIn()\n",
    "\n",
    "stud = Student1 (\"21-42011\", \"Rosalem, Kiara C.\", 19, \"BSIT-2102\", \"2nd Year\")\n",
    "print (\"    Student's Information\")\n",
    "stud.displayIn()"
   ]
  }
 ],
 "metadata": {
  "kernelspec": {
   "display_name": "Python 3.10.8 64-bit (microsoft store)",
   "language": "python",
   "name": "python3"
  },
  "language_info": {
   "codemirror_mode": {
    "name": "ipython",
    "version": 3
   },
   "file_extension": ".py",
   "mimetype": "text/x-python",
   "name": "python",
   "nbconvert_exporter": "python",
   "pygments_lexer": "ipython3",
   "version": "3.10.8"
  },
  "orig_nbformat": 4,
  "vscode": {
   "interpreter": {
    "hash": "bbae291f5c38e5cf8a177feaeffeb13d2864453589e78ce2849eb8b60e124340"
   }
  }
 },
 "nbformat": 4,
 "nbformat_minor": 2
}
