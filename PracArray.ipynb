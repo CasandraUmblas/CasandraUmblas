{
 "cells": [
  {
   "cell_type": "code",
   "execution_count": null,
   "metadata": {},
   "outputs": [],
   "source": [
    "from array import *\n",
    "\n",
    "numbers = array ('i' , [])\n",
    "\n",
    "length = int (input (\"Enter the length of the array: \"))\n",
    "\n",
    "for nms in range (length):\n",
    "    x = int (input (\"Enter a number: \"))\n",
    "    numbers.append(x)\n",
    "\n",
    "print(numbers)\n",
    "\n",
    "name = int (input (\"Enter the number you want to search: \"))\n",
    "\n",
    "srch = 0\n",
    "for s in numbers:\n",
    "    if s == name:\n",
    "        print ('Index' , srch)\n",
    "\n",
    "    srch+=1\n",
    "\n",
    "dlt = int (input (\"Enter the number you want to delete: \"))\n",
    "numbers.remove(dlt)\n",
    "\n",
    "print(numbers)\n"
   ]
  }
 ],
 "metadata": {
  "language_info": {
   "name": "python"
  },
  "orig_nbformat": 4
 },
 "nbformat": 4,
 "nbformat_minor": 2
}
